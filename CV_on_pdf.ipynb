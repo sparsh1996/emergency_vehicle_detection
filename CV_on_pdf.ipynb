{
 "cells": [
  {
   "cell_type": "code",
   "execution_count": 3,
   "metadata": {},
   "outputs": [],
   "source": [
    "import cv2\n",
    "import os\n",
    "import numpy as np\n",
    "import matplotlib.pyplot as plt\n",
    "from keras.preprocessing import image\n",
    "from sklearn.model_selection import train_test_split\n",
    "from tensorflow import keras\n",
    "from sklearn.metrics import accuracy_score\n",
    "from tensorflow.keras import callbacks, optimizers\n",
    "import pdf2image"
   ]
  },
  {
   "cell_type": "code",
   "execution_count": 2,
   "metadata": {},
   "outputs": [],
   "source": [
    "pdf = pdf2image.convert_from_path('/Users/skylark/Desktop/EBSC/tika_flask/sparshupdatedresume - with score.pdf')"
   ]
  },
  {
   "cell_type": "code",
   "execution_count": 6,
   "metadata": {},
   "outputs": [],
   "source": [
    "for img in pdf:\n",
    "    img.save('/Users/skylark/Desktop/output.jpg', 'JPEG')"
   ]
  },
  {
   "cell_type": "code",
   "execution_count": 9,
   "metadata": {},
   "outputs": [],
   "source": [
    "os.makedirs('pdf_to_img')"
   ]
  },
  {
   "cell_type": "code",
   "execution_count": 16,
   "metadata": {},
   "outputs": [
    {
     "data": {
      "text/plain": [
       "'/Users/skylark/Desktop'"
      ]
     },
     "execution_count": 16,
     "metadata": {},
     "output_type": "execute_result"
    }
   ],
   "source": [
    "pwd"
   ]
  },
  {
   "cell_type": "code",
   "execution_count": 4,
   "metadata": {},
   "outputs": [],
   "source": [
    "def pdf_to_img(path, filename, filenum):\n",
    "    try:\n",
    "        \n",
    "        imgs = pdf2image.convert_from_path(path+filename)\n",
    "        i = 0\n",
    "        for img in imgs:\n",
    "            img.save('/Users/skylark/Desktop/pdf_to_img/output'+str(filenum)+'_'+str(i)+'.jpg', 'JPEG')\n",
    "            i = i+1\n",
    "    except Exception as e:\n",
    "        pass"
   ]
  },
  {
   "cell_type": "code",
   "execution_count": 40,
   "metadata": {},
   "outputs": [],
   "source": [
    "pdf_to_img('/Users/skylark/Desktop/Misc/', 'sparsh updated resume.pdf', 5)"
   ]
  },
  {
   "cell_type": "code",
   "execution_count": 10,
   "metadata": {},
   "outputs": [],
   "source": [
    "j = 0\n",
    "for file in os.listdir('/Users/skylark/Desktop/pdf_1'):\n",
    "    pdf_to_img('/Users/skylark/Desktop/pdf_1/',file, str(j)+'aws_2')\n",
    "    j = j+1"
   ]
  },
  {
   "cell_type": "code",
   "execution_count": 2,
   "metadata": {},
   "outputs": [],
   "source": [
    "model = keras.models.load_model('/Users/skylark/Desktop/model_margin_identification.h5')"
   ]
  }
 ],
 "metadata": {
  "kernelspec": {
   "display_name": "Python 3",
   "language": "python",
   "name": "python3"
  },
  "language_info": {
   "codemirror_mode": {
    "name": "ipython",
    "version": 3
   },
   "file_extension": ".py",
   "mimetype": "text/x-python",
   "name": "python",
   "nbconvert_exporter": "python",
   "pygments_lexer": "ipython3",
   "version": "3.7.4"
  }
 },
 "nbformat": 4,
 "nbformat_minor": 2
}
