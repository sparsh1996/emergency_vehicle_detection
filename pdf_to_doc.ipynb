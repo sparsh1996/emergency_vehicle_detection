{
 "cells": [
  {
   "cell_type": "code",
   "execution_count": 1,
   "metadata": {},
   "outputs": [],
   "source": [
    "dict_t = {'name':'Sparsh', 'number':'8860624736'}"
   ]
  },
  {
   "cell_type": "code",
   "execution_count": 2,
   "metadata": {},
   "outputs": [],
   "source": [
    "f_list = []\n",
    "f_list.append(('Desc.', dict_t))"
   ]
  },
  {
   "cell_type": "code",
   "execution_count": 4,
   "metadata": {},
   "outputs": [
    {
     "data": {
      "text/plain": [
       "{'Desc.': {'name': 'Sparsh', 'number': '8860624736'}}"
      ]
     },
     "execution_count": 4,
     "metadata": {},
     "output_type": "execute_result"
    }
   ],
   "source": [
    "dict(f_list)"
   ]
  },
  {
   "cell_type": "code",
   "execution_count": 6,
   "metadata": {},
   "outputs": [
    {
     "data": {
      "text/plain": [
       "'0 1 2 3 '"
      ]
     },
     "execution_count": 6,
     "metadata": {},
     "output_type": "execute_result"
    }
   ],
   "source": [
    "from jinja2 import Template\n",
    "\n",
    "s = \"{% for element in elements %}{{loop.index0}} {% endfor %}\"\n",
    "Template(s).render(elements=[\"a\", \"b\", \"c\", \"d\"])"
   ]
  },
  {
   "cell_type": "code",
   "execution_count": 20,
   "metadata": {},
   "outputs": [
    {
     "name": "stdout",
     "output_type": "stream",
     "text": [
      "Business Analyst\n",
      "JD For Business Analyst\n",
      "Sub-Domain58; Core Banking Solution, CASA, Loan, General Ledger, Customer solution.\n",
      "1.MBA Preferred (Finance &amp; Banking)\n",
      "2.Should have an overall experience of minimum 3-6 years on banking domain in Product/Service Based Company and working as a Business Analyst.\n",
      "3.Banking experience is Preferred.\n",
      "4.Should have worked on at least one Core Banking Solution. (Ex58; Finacle, Oracle Flexcube, Fiserv, TCS BaNcs, FIS Profile etc.) \n",
      "communication , team player\n",
      "Project Requirement58;\n",
      "Mandatory Skill58;\n",
      "\n",
      "1.Candidate should have experience in software development methodologies such as waterfall, agile, etc. \n",
      "2.Candidate should have experience in Gathering, analyzing &amp; documenting processes, rules and functions required to support these needs and corresponding requirements.\n",
      "3.Experience in interacting with Business users &amp; SME providing recommendations to resolve issues for various business/technical groups &amp; defining strategic solutions to business problems in a multiple p \n",
      "\n",
      "Azure Cloud Architect\n",
      "The role responsibilities include architecting solutions and operations on Azure for solving customer business problems. Experience migrating or transforming legacy customer solutions on to the cloud. Very good understanding of Azure products/services and awareness of other cloud technologies other than Azure is a must. \n",
      "\n",
      "Native Azure Services\n",
      "Azure Functions, Containers, Service Fabric\n",
      "Experience in Micro Services Implementation\n",
      "\n",
      "Travel to customer locations to conduct workshops, assessments and other consulting activities will be an integral part of the role. The role also involves pre-sales activiti \n",
      "\n",
      ".Net Project Lead - Technical\n",
      "1. .Net MVC with Entity framework.\n",
      "2. Unit Test cases automation scripting.\n",
      "3. Angular JS 2.0 +; hands on experience.\n",
      "4. JavaScript, jQuery, AJAX and CSS.\n",
      "5. MS SQL Server Knowledge.\n",
      "6. SSRS reports.\n",
      "7. Knowledge on deploying application in IIS.\n",
      "8. Agile process.\n",
      "9. TFS/GIT source repository.\n",
      "\n",
      ".Net MVC, EF, CFF Agular JS 2.0 and MS SQL DB \n",
      "\n",
      "Dot Net TL\n",
      "1. .Net MVC with Entity framework.\n",
      "2. Unit Test cases automation scripting.\n",
      "3. Angular JS 2.0 +; hands on experience.\n",
      "4. JavaScript, jQuery, AJAX and CSS.\n",
      "5. MS SQL Server Knowledge.\n",
      "6. SSRS reports.\n",
      "7. Knowledge on deploying application in IIS.\n",
      "8. Agile process.\n",
      "9. TFS/GIT source repository.\n",
      "Should have very good knowledge in DotNet MVC and CFF. Good analytical skills, communication skills and team handling skills \n",
      "\n",
      "Life Ray Developer\n",
      "Senior Java developer with hands on experience in Liferay, MySQL, JBoss ESB. Good in communication, Estimation skills and client handling. Having knowledge on designing skills. \n",
      "\n",
      "Sharepoint developer\n",
      "• Experience in MS SharePoint Cloud Implementations\n",
      "• Extensive experience in Customization \n",
      "• Data import scheduler knowledge\n",
      "• Good with JS, jQuery and MS SQL\n",
      "• Good communication\n",
      "• Good knowledge on SP portal design aspects and documentation\n",
      "\n",
      "Excellent customer communication \n",
      "\n",
      "Quality Analyst\n",
      "Hands on implementation experience in CMMI Level 5 - Dev & ISO 9001\n",
      "Hands on experience in statistical tool\n",
      "Facilitate assigned projects teams & department to implement processes.\n",
      "Provide project & department progress updates on regular basis to Quality team lead.\n",
      "Conduct independent process implementation reviews & timely escalation of process-gaps for assigned projects by using monthly Process Compliance dashboard sheet Participate in internal & external audit as SQA for assigned projects.\n",
      "Facilitate closure of internal & external audit observations for assigned project & departments.\n",
      "Facilitate project team & department during RCA meeting.(Defects, Metrics, NC's) \n",
      "\n",
      ".Net Angular\n",
      "1. .Net MVC with Entity framework.\n",
      "2. Unit Test cases automation scripting.\n",
      "3. Angular JS 2.0 +; hands on experience.\n",
      "4. JavaScript, jQuery, AJAX and CSS.\n",
      "5. MS SQL Server Knowledge.\n",
      "6. SSRS reports.\n",
      "7. Knowledge on deploying application in IIS.\n",
      "8. Agile process.\n",
      "9. TFS/GIT source repository. \n",
      "\n"
     ]
    }
   ],
   "source": [
    "import os\n",
    "import glob\n",
    "import pandas as pd\n",
    "\n",
    "os.chdir('/Users/skylark/Desktop/EBSC/Resume-Ranking/Upload-JD')\n",
    "file = glob.glob('*.xlsx', recursive=False)\n",
    "\n",
    "data_set = pd.read_excel(file[0])\n",
    "for i in range(len(data_set)):\n",
    "    search_st = data_set['High Level Job Description'][i]\n",
    "    skill_text = data_set['Technology'][1] + data_set['Primary Skill'][i]\n",
    "    jd_exp = data_set['Yrs Of Exp '][i]\n",
    "    title = data_set['Job Title'][i]\n",
    "    print(title)\n",
    "    print(search_st, '\\n')"
   ]
  },
  {
   "cell_type": "code",
   "execution_count": 16,
   "metadata": {},
   "outputs": [
    {
     "data": {
      "text/plain": [
       "'The role responsibilities include architecting solutions and operations on Azure for solving customer business problems. Experience migrating or transforming legacy customer solutions on to the cloud. Very good understanding of Azure products/services and awareness of other cloud technologies other than Azure is a must. \\n\\nNative Azure Services\\nAzure Functions, Containers, Service Fabric\\nExperience in Micro Services Implementation\\n\\nTravel to customer locations to conduct workshops, assessments and other consulting activities will be an integral part of the role. The role also involves pre-sales activiti'"
      ]
     },
     "execution_count": 16,
     "metadata": {},
     "output_type": "execute_result"
    }
   ],
   "source": [
    "search_st"
   ]
  },
  {
   "cell_type": "code",
   "execution_count": 17,
   "metadata": {},
   "outputs": [
    {
     "data": {
      "text/html": [
       "<div>\n",
       "<style scoped>\n",
       "    .dataframe tbody tr th:only-of-type {\n",
       "        vertical-align: middle;\n",
       "    }\n",
       "\n",
       "    .dataframe tbody tr th {\n",
       "        vertical-align: top;\n",
       "    }\n",
       "\n",
       "    .dataframe thead th {\n",
       "        text-align: right;\n",
       "    }\n",
       "</style>\n",
       "<table border=\"1\" class=\"dataframe\">\n",
       "  <thead>\n",
       "    <tr style=\"text-align: right;\">\n",
       "      <th></th>\n",
       "      <th>Job Title</th>\n",
       "      <th>Yrs Of Exp</th>\n",
       "      <th>Relevant Yrs Of Exp</th>\n",
       "      <th>Qualification</th>\n",
       "      <th>High Level Job Description</th>\n",
       "      <th>Technology</th>\n",
       "      <th>Primary Skill</th>\n",
       "    </tr>\n",
       "  </thead>\n",
       "  <tbody>\n",
       "    <tr>\n",
       "      <th>0</th>\n",
       "      <td>Business Analyst</td>\n",
       "      <td>5-7</td>\n",
       "      <td>5-7</td>\n",
       "      <td>Graduate in any stream\\nMBA Preferred</td>\n",
       "      <td>JD For Business Analyst\\nSub-Domain58; Core Ba...</td>\n",
       "      <td>Banking &amp; Finance--Master,Banking &amp; Finance--M...</td>\n",
       "      <td>Banking &amp; Finance--Master java</td>\n",
       "    </tr>\n",
       "    <tr>\n",
       "      <th>1</th>\n",
       "      <td>Azure Cloud Architect</td>\n",
       "      <td>7</td>\n",
       "      <td>7-8</td>\n",
       "      <td>Graduate in any stream</td>\n",
       "      <td>The role responsibilities include architecting...</td>\n",
       "      <td>C++-Microsoft Technologies--Expert,Dotnet Over...</td>\n",
       "      <td>C++-Microsoft Technologies--Expert</td>\n",
       "    </tr>\n",
       "    <tr>\n",
       "      <th>2</th>\n",
       "      <td>.Net Project Lead - Technical</td>\n",
       "      <td>7</td>\n",
       "      <td>6</td>\n",
       "      <td>BE</td>\n",
       "      <td>1. .Net MVC with Entity framework.\\n2. Unit Te...</td>\n",
       "      <td>ASP.Net--Master</td>\n",
       "      <td>ASP.Net--Master</td>\n",
       "    </tr>\n",
       "    <tr>\n",
       "      <th>3</th>\n",
       "      <td>Dot Net TL</td>\n",
       "      <td>6</td>\n",
       "      <td>6</td>\n",
       "      <td>BE</td>\n",
       "      <td>1. .Net MVC with Entity framework.\\n2. Unit Te...</td>\n",
       "      <td>MVC&amp;Silverlight&amp;Jquery &amp; ASP.Net--Expert,Dotne...</td>\n",
       "      <td>MVC&amp;Silverlight&amp;Jquery &amp; ASP.Net--Expert</td>\n",
       "    </tr>\n",
       "    <tr>\n",
       "      <th>4</th>\n",
       "      <td>Life Ray Developer</td>\n",
       "      <td>5</td>\n",
       "      <td>3</td>\n",
       "      <td>BE</td>\n",
       "      <td>Senior Java developer with hands on experience...</td>\n",
       "      <td>Application / Web Servers - JBOSS--Master,Appl...</td>\n",
       "      <td>CMS  - Liferay--Master</td>\n",
       "    </tr>\n",
       "    <tr>\n",
       "      <th>5</th>\n",
       "      <td>Sharepoint developer</td>\n",
       "      <td>4-5</td>\n",
       "      <td>4</td>\n",
       "      <td>BE</td>\n",
       "      <td>• Experience in MS SharePoint Cloud Implementa...</td>\n",
       "      <td>Share Point 2007 / 2010--Expert,MS SqlServer--...</td>\n",
       "      <td>Share Point 2007 / 2010--Expert</td>\n",
       "    </tr>\n",
       "    <tr>\n",
       "      <th>6</th>\n",
       "      <td>Quality Analyst</td>\n",
       "      <td>3 to 5</td>\n",
       "      <td>3</td>\n",
       "      <td>BE</td>\n",
       "      <td>Hands on implementation experience in CMMI Lev...</td>\n",
       "      <td>ISO, CMMI, ISMS</td>\n",
       "      <td>ISO, CMMI, ISMS</td>\n",
       "    </tr>\n",
       "    <tr>\n",
       "      <th>7</th>\n",
       "      <td>.Net Angular</td>\n",
       "      <td>4</td>\n",
       "      <td>3</td>\n",
       "      <td>BE</td>\n",
       "      <td>1. .Net MVC with Entity framework.\\n2. Unit Te...</td>\n",
       "      <td>ASP.Net--Master</td>\n",
       "      <td>ASP.Net--Master</td>\n",
       "    </tr>\n",
       "  </tbody>\n",
       "</table>\n",
       "</div>"
      ],
      "text/plain": [
       "                       Job Title Yrs Of Exp  Relevant Yrs Of Exp   \\\n",
       "0               Business Analyst         5-7                  5-7   \n",
       "1          Azure Cloud Architect           7                  7-8   \n",
       "2  .Net Project Lead - Technical           7                    6   \n",
       "3                     Dot Net TL           6                    6   \n",
       "4             Life Ray Developer           5                    3   \n",
       "5           Sharepoint developer         4-5                    4   \n",
       "6                Quality Analyst      3 to 5                    3   \n",
       "7                   .Net Angular           4                    3   \n",
       "\n",
       "                          Qualification   \\\n",
       "0  Graduate in any stream\\nMBA Preferred   \n",
       "1                 Graduate in any stream   \n",
       "2                                     BE   \n",
       "3                                     BE   \n",
       "4                                     BE   \n",
       "5                                     BE   \n",
       "6                                     BE   \n",
       "7                                     BE   \n",
       "\n",
       "                          High Level Job Description  \\\n",
       "0  JD For Business Analyst\\nSub-Domain58; Core Ba...   \n",
       "1  The role responsibilities include architecting...   \n",
       "2  1. .Net MVC with Entity framework.\\n2. Unit Te...   \n",
       "3  1. .Net MVC with Entity framework.\\n2. Unit Te...   \n",
       "4  Senior Java developer with hands on experience...   \n",
       "5  • Experience in MS SharePoint Cloud Implementa...   \n",
       "6  Hands on implementation experience in CMMI Lev...   \n",
       "7  1. .Net MVC with Entity framework.\\n2. Unit Te...   \n",
       "\n",
       "                                          Technology  \\\n",
       "0  Banking & Finance--Master,Banking & Finance--M...   \n",
       "1  C++-Microsoft Technologies--Expert,Dotnet Over...   \n",
       "2                                    ASP.Net--Master   \n",
       "3  MVC&Silverlight&Jquery & ASP.Net--Expert,Dotne...   \n",
       "4  Application / Web Servers - JBOSS--Master,Appl...   \n",
       "5  Share Point 2007 / 2010--Expert,MS SqlServer--...   \n",
       "6                                    ISO, CMMI, ISMS   \n",
       "7                                    ASP.Net--Master   \n",
       "\n",
       "                              Primary Skill  \n",
       "0            Banking & Finance--Master java  \n",
       "1        C++-Microsoft Technologies--Expert  \n",
       "2                           ASP.Net--Master  \n",
       "3  MVC&Silverlight&Jquery & ASP.Net--Expert  \n",
       "4                    CMS  - Liferay--Master  \n",
       "5           Share Point 2007 / 2010--Expert  \n",
       "6                           ISO, CMMI, ISMS  \n",
       "7                           ASP.Net--Master  "
      ]
     },
     "execution_count": 17,
     "metadata": {},
     "output_type": "execute_result"
    }
   ],
   "source": [
    "data_set"
   ]
  },
  {
   "cell_type": "code",
   "execution_count": 23,
   "metadata": {},
   "outputs": [],
   "source": [
    "import numpy as np\n",
    "list_p = list(np.arange(10))\n",
    "list_q = list(np.arange(10,20))"
   ]
  },
  {
   "cell_type": "code",
   "execution_count": 27,
   "metadata": {},
   "outputs": [],
   "source": [
    "t = [] +list_p + list_q + []"
   ]
  },
  {
   "cell_type": "code",
   "execution_count": 28,
   "metadata": {},
   "outputs": [
    {
     "data": {
      "text/plain": [
       "[0, 1, 2, 3, 4, 5, 6, 7, 8, 9, 10, 11, 12, 13, 14, 15, 16, 17, 18, 19]"
      ]
     },
     "execution_count": 28,
     "metadata": {},
     "output_type": "execute_result"
    }
   ],
   "source": [
    "t"
   ]
  },
  {
   "cell_type": "code",
   "execution_count": 2,
   "metadata": {},
   "outputs": [],
   "source": [
    "import pdf2docx"
   ]
  },
  {
   "cell_type": "code",
   "execution_count": 68,
   "metadata": {},
   "outputs": [],
   "source": [
    "pdf = '/Users/skylark/Desktop/susheela@gmil.com10052019043628_resume.pdf'\n",
    "doc = '/Users/skylark/Desktop/doc.docx'"
   ]
  },
  {
   "cell_type": "code",
   "execution_count": 69,
   "metadata": {},
   "outputs": [
    {
     "name": "stdout",
     "output_type": "stream",
     "text": [
      "Processing Pages: 1/1...\n",
      "--------------------------------------------------\n",
      "Terminated in 3.19894808200479s.\n"
     ]
    }
   ],
   "source": [
    "try:\n",
    "    pdf2docx.parse(pdf, doc)\n",
    "except Exception as e:\n",
    "    pass"
   ]
  },
  {
   "cell_type": "code",
   "execution_count": null,
   "metadata": {},
   "outputs": [],
   "source": []
  }
 ],
 "metadata": {
  "kernelspec": {
   "display_name": "Python 3",
   "language": "python",
   "name": "python3"
  },
  "language_info": {
   "codemirror_mode": {
    "name": "ipython",
    "version": 3
   },
   "file_extension": ".py",
   "mimetype": "text/x-python",
   "name": "python",
   "nbconvert_exporter": "python",
   "pygments_lexer": "ipython3",
   "version": "3.7.4"
  }
 },
 "nbformat": 4,
 "nbformat_minor": 2
}
